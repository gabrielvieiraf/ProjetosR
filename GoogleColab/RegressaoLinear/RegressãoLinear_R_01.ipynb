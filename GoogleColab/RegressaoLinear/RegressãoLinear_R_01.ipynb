{
  "nbformat": 4,
  "nbformat_minor": 0,
  "metadata": {
    "colab": {
      "name": "RegressãoLinear_R_01.ipynb",
      "provenance": [],
      "authorship_tag": "ABX9TyNSbhkBEITJI1eDLAqSKGGT",
      "include_colab_link": true
    },
    "kernelspec": {
      "name": "python3",
      "display_name": "Python 3"
    }
  },
  "cells": [
    {
      "cell_type": "markdown",
      "metadata": {
        "id": "view-in-github",
        "colab_type": "text"
      },
      "source": [
        "<a href=\"https://colab.research.google.com/github/gabrielvieiraf/ProjetosR/blob/master/GoogleColab/RegressaoLinear/Regress%C3%A3oLinear_R_01.ipynb\" target=\"_parent\"><img src=\"https://colab.research.google.com/assets/colab-badge.svg\" alt=\"Open In Colab\"/></a>"
      ]
    },
    {
      "cell_type": "code",
      "metadata": {
        "id": "ttFilkjBp5w2"
      },
      "source": [
        "# Ativando R magic\r\n",
        "%load_ext rpy2.ipython"
      ],
      "execution_count": 1,
      "outputs": []
    },
    {
      "cell_type": "markdown",
      "metadata": {
        "id": "MJSAGhAEpnRL"
      },
      "source": [
        "> ## Regressão Linear Simples"
      ]
    },
    {
      "cell_type": "markdown",
      "metadata": {
        "id": "367bckGQqPKx"
      },
      "source": [
        "> ### Instalando e rodando library\r\n",
        "\r\n",
        "Corrgram permite visualizar a correlação entre variáveis"
      ]
    },
    {
      "cell_type": "code",
      "metadata": {
        "id": "9FKDbFBOph9N"
      },
      "source": [
        "%%R\r\n",
        "install.packages('corrgram')\r\n",
        "library('corrgram')"
      ],
      "execution_count": null,
      "outputs": []
    },
    {
      "cell_type": "markdown",
      "metadata": {
        "id": "rPETr-S9qVvv"
      },
      "source": [
        "> ### Verificando correlação no conjunto de dados cars"
      ]
    },
    {
      "cell_type": "code",
      "metadata": {
        "colab": {
          "base_uri": "https://localhost:8080/"
        },
        "id": "-GlPwNv3qrti",
        "outputId": "5d52ed55-ca19-4b78-fe4e-41001a9c8713"
      },
      "source": [
        "%%R\r\n",
        "cor(cars)"
      ],
      "execution_count": 9,
      "outputs": [
        {
          "output_type": "stream",
          "text": [
            "          speed      dist\n",
            "speed 1.0000000 0.8068949\n",
            "dist  0.8068949 1.0000000\n"
          ],
          "name": "stdout"
        }
      ]
    },
    {
      "cell_type": "markdown",
      "metadata": {
        "id": "BCbt44X3rGdX"
      },
      "source": [
        "> ### Gerando Correlograma"
      ]
    },
    {
      "cell_type": "code",
      "metadata": {
        "colab": {
          "base_uri": "https://localhost:8080/",
          "height": 496
        },
        "id": "ddCk5uAZrJ0b",
        "outputId": "51d7a7d5-4aa9-402e-dda7-5af2879a4e97"
      },
      "source": [
        "%%R\r\n",
        "corrgram(cars, order=T, lower.panel= panel.shade,\r\n",
        "         upper.panel= panel.pie,\r\n",
        "         text.panel= panel.txt,\r\n",
        "         main= \"Carros\")"
      ],
      "execution_count": 12,
      "outputs": [
        {
          "output_type": "display_data",
          "data": {
            "image/png": "[encoded data removed]"
          },
          "metadata": {
            "tags": []
          }
        }
      ]
    },
    {
      "cell_type": "markdown",
      "metadata": {
        "id": "kYcoXsDTsqLu"
      },
      "source": [
        "> ### Criando Modelo"
      ]
    },
    {
      "cell_type": "code",
      "metadata": {
        "colab": {
          "base_uri": "https://localhost:8080/"
        },
        "id": "JNURBS40ssE8",
        "outputId": "37b54dbe-3972-4bba-9dfd-f9423311e493"
      },
      "source": [
        "%%R\r\n",
        "# Usando a variável distância para prever a velocidade\r\n",
        "modelo <- lm(speed ~ dist, data=cars)\r\n",
        "modelo"
      ],
      "execution_count": 13,
      "outputs": [
        {
          "output_type": "stream",
          "text": [
            "\n",
            "Call:\n",
            "lm(formula = speed ~ dist, data = cars)\n",
            "\n",
            "Coefficients:\n",
            "(Intercept)         dist  \n",
            "     8.2839       0.1656  \n",
            "\n"
          ],
          "name": "stdout"
        }
      ]
    },
    {
      "cell_type": "markdown",
      "metadata": {
        "id": "ErOCOWdetJVQ"
      },
      "source": [
        "> #### Coeficientes:\r\n",
        "*   Intercept --> Onde a linha cruza o eixo y com x = 0\r\n",
        "*   dist -->  Quanto y aumenta em relação ao aumento de x\r\n",
        "\r\n"
      ]
    },
    {
      "cell_type": "markdown",
      "metadata": {
        "id": "sv7yF-l2uAFb"
      },
      "source": [
        "> ### Relação entre variáveris e linha de melhor ajuste"
      ]
    },
    {
      "cell_type": "code",
      "metadata": {
        "colab": {
          "base_uri": "https://localhost:8080/",
          "height": 496
        },
        "id": "kT5rf4ajt3vO",
        "outputId": "e3f4adee-8c65-4267-cf59-0837cd837e11"
      },
      "source": [
        "%%R\r\n",
        "plot(speed ~ dist, data=cars, ylab=\"Vel.\", xlab=\"Dist.\", main=\"Carros\")\r\n",
        "abline(modelo)"
      ],
      "execution_count": 18,
      "outputs": [
        {
          "output_type": "display_data",
          "data": {
            "image/png": "[encoded data removed]"
          },
          "metadata": {
            "tags": []
          }
        }
      ]
    },
    {
      "cell_type": "markdown",
      "metadata": {
        "id": "oBGTdIW3vJ_n"
      },
      "source": [
        "> ### Utilizando predict() para prever a velocidade a partir da variável distância"
      ]
    },
    {
      "cell_type": "code",
      "metadata": {
        "colab": {
          "base_uri": "https://localhost:8080/"
        },
        "id": "phVQadzJvMqk",
        "outputId": "c39279f8-5cf6-44b0-9abd-c6aa2e49aabc"
      },
      "source": [
        "%%R\r\n",
        "distancia <- 80\r\n",
        "previsao <- predict(modelo,data.frame(dist=distancia))\r\n",
        "print(previsao)\r\n",
        "\r\n",
        "distancia <- c(80,10,20)\r\n",
        "predict(modelo,data.frame(dist=distancia))"
      ],
      "execution_count": 27,
      "outputs": [
        {
          "output_type": "stream",
          "text": [
            "       1 \n",
            "21.52931 \n",
            "        1         2         3 \n",
            "21.529312  9.939581 11.595257 \n"
          ],
          "name": "stdout"
        }
      ]
    }
  ]
}