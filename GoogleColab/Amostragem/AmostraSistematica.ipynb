{
  "nbformat": 4,
  "nbformat_minor": 0,
  "metadata": {
    "colab": {
      "name": "AmostraSistematica.ipynb",
      "provenance": [],
      "authorship_tag": "ABX9TyNYb8J/g2N7hWEWNLxLtLdR",
      "include_colab_link": true
    },
    "kernelspec": {
      "name": "python3",
      "display_name": "Python 3"
    }
  },
  "cells": [
    {
      "cell_type": "markdown",
      "metadata": {
        "id": "view-in-github",
        "colab_type": "text"
      },
      "source": [
        "<a href=\"https://colab.research.google.com/github/gabrielvieiraf/ProjetosR/blob/master/GoogleColab/Amostragem/AmostraSistematica.ipynb\" target=\"_parent\"><img src=\"https://colab.research.google.com/assets/colab-badge.svg\" alt=\"Open In Colab\"/></a>"
      ]
    },
    {
      "cell_type": "code",
      "metadata": {
        "colab": {
          "base_uri": "https://localhost:8080/"
        },
        "id": "NQhKquBbDBCr",
        "outputId": "5e7c5198-6505-485d-d2cb-ceacd2a32927"
      },
      "source": [
        "# Ativando R magic\r\n",
        "%load_ext rpy2.ipython"
      ],
      "execution_count": 5,
      "outputs": [
        {
          "output_type": "stream",
          "text": [
            "The rpy2.ipython extension is already loaded. To reload it, use:\n",
            "  %reload_ext rpy2.ipython\n"
          ],
          "name": "stdout"
        }
      ]
    },
    {
      "cell_type": "markdown",
      "metadata": {
        "id": "ZAUY7OusDGu8"
      },
      "source": [
        "> ## Amostragem sistemática"
      ]
    },
    {
      "cell_type": "markdown",
      "metadata": {
        "id": "2O5UXc8vDY_A"
      },
      "source": [
        "> ### Instalando e rodando library"
      ]
    },
    {
      "cell_type": "code",
      "metadata": {
        "id": "hB9O6zZoDLGa"
      },
      "source": [
        "%%R\r\n",
        "install.packages(\"TeachingSampling\")\r\n",
        "library(\"TeachingSampling\")"
      ],
      "execution_count": null,
      "outputs": []
    },
    {
      "cell_type": "markdown",
      "metadata": {
        "id": "LNDIlAdYDtsq"
      },
      "source": [
        "> ### Gerando amostra sistemática "
      ]
    },
    {
      "cell_type": "code",
      "metadata": {
        "colab": {
          "base_uri": "https://localhost:8080/"
        },
        "id": "zrGwwJ1MD9rp",
        "outputId": "48390d22-26dd-4d36-fb62-7384b3261022"
      },
      "source": [
        "%%R\r\n",
        "# Amostra sistemática de tamanho 150 e 10 grupos \r\n",
        "amostra <- S.SY(150,10)\r\n",
        "amostra"
      ],
      "execution_count": 18,
      "outputs": [
        {
          "output_type": "stream",
          "text": [
            "      [,1]\n",
            " [1,]    9\n",
            " [2,]   19\n",
            " [3,]   29\n",
            " [4,]   39\n",
            " [5,]   49\n",
            " [6,]   59\n",
            " [7,]   69\n",
            " [8,]   79\n",
            " [9,]   89\n",
            "[10,]   99\n",
            "[11,]  109\n",
            "[12,]  119\n",
            "[13,]  129\n",
            "[14,]  139\n",
            "[15,]  149\n"
          ],
          "name": "stdout"
        }
      ]
    },
    {
      "cell_type": "code",
      "metadata": {
        "colab": {
          "base_uri": "https://localhost:8080/"
        },
        "id": "GYRoUdRXEEuj",
        "outputId": "fe5231e3-4376-4582-a95f-1c4d8cd5562e"
      },
      "source": [
        "%%R\r\n",
        "amostrairis <- iris[amostra,]\r\n",
        "amostrairis"
      ],
      "execution_count": 21,
      "outputs": [
        {
          "output_type": "stream",
          "text": [
            "    Sepal.Length Sepal.Width Petal.Length Petal.Width    Species\n",
            "9            4.4         2.9          1.4         0.2     setosa\n",
            "19           5.7         3.8          1.7         0.3     setosa\n",
            "29           5.2         3.4          1.4         0.2     setosa\n",
            "39           4.4         3.0          1.3         0.2     setosa\n",
            "49           5.3         3.7          1.5         0.2     setosa\n",
            "59           6.6         2.9          4.6         1.3 versicolor\n",
            "69           6.2         2.2          4.5         1.5 versicolor\n",
            "79           6.0         2.9          4.5         1.5 versicolor\n",
            "89           5.6         3.0          4.1         1.3 versicolor\n",
            "99           5.1         2.5          3.0         1.1 versicolor\n",
            "109          6.7         2.5          5.8         1.8  virginica\n",
            "119          7.7         2.6          6.9         2.3  virginica\n",
            "129          6.4         2.8          5.6         2.1  virginica\n",
            "139          6.0         3.0          4.8         1.8  virginica\n",
            "149          6.2         3.4          5.4         2.3  virginica\n"
          ],
          "name": "stdout"
        }
      ]
    }
  ]
}