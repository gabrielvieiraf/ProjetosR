{
  "nbformat": 4,
  "nbformat_minor": 0,
  "metadata": {
    "colab": {
      "name": "AmostraEstratificada_R.ipynb",
      "provenance": [],
      "authorship_tag": "ABX9TyOJphM4HLKeWSbESJ3J2d1i",
      "include_colab_link": true
    },
    "kernelspec": {
      "name": "python3",
      "display_name": "Python 3"
    }
  },
  "cells": [
    {
      "cell_type": "markdown",
      "metadata": {
        "id": "view-in-github",
        "colab_type": "text"
      },
      "source": [
        "<a href=\"https://colab.research.google.com/github/gabrielvieiraf/ProjetosR/blob/master/GoogleColab/AmostraEstratificada_R.ipynb\" target=\"_parent\"><img src=\"https://colab.research.google.com/assets/colab-badge.svg\" alt=\"Open In Colab\"/></a>"
      ]
    },
    {
      "cell_type": "code",
      "metadata": {
        "id": "G8-VpR19zg5j"
      },
      "source": [
        "# Ativando R magic\r\n",
        "%load_ext rpy2.ipython"
      ],
      "execution_count": 1,
      "outputs": []
    },
    {
      "cell_type": "markdown",
      "metadata": {
        "id": "qbev8qlnzp6-"
      },
      "source": [
        "> ## Amostra estratificada\r\n",
        "\r\n",
        "Gerando amostras em que hajam representatividade de dados com determinadas condições"
      ]
    },
    {
      "cell_type": "markdown",
      "metadata": {
        "id": "YHUD_CyS_FMI"
      },
      "source": [
        "> ### Instalando e rodando library"
      ]
    },
    {
      "cell_type": "code",
      "metadata": {
        "id": "54yBukWzzsSy"
      },
      "source": [
        "%%R\r\n",
        "install.packages(\"sampling\")\r\n",
        "library(\"sampling\")"
      ],
      "execution_count": null,
      "outputs": []
    },
    {
      "cell_type": "markdown",
      "metadata": {
        "id": "aLXXIvf_1kTH"
      },
      "source": [
        "> ### Usando Método strata"
      ]
    },
    {
      "cell_type": "code",
      "metadata": {
        "colab": {
          "base_uri": "https://localhost:8080/"
        },
        "id": "0bw_uFH5_MAn",
        "outputId": "6e7f5c3a-6bb6-4346-8376-112e981c602f"
      },
      "source": [
        "%%R\r\n",
        "# Gerando proporcao de 25 registros por especies\r\n",
        "proporcao =  25\r\n",
        "\r\n",
        "amostrairis = strata(data=iris, stratanames = c(\"Species\"), size= c(rep(proporcao,3)), method=\"srswor\")\r\n",
        "summary(amostrairis)"
      ],
      "execution_count": 13,
      "outputs": [
        {
          "output_type": "stream",
          "text": [
            "       Species      ID_unit            Prob        Stratum \n",
            " setosa    :25   Min.   :  2.00   Min.   :0.5   Min.   :1  \n",
            " versicolor:25   1st Qu.: 40.00   1st Qu.:0.5   1st Qu.:1  \n",
            " virginica :25   Median : 79.00   Median :0.5   Median :2  \n",
            "                 Mean   : 77.49   Mean   :0.5   Mean   :2  \n",
            "                 3rd Qu.:113.50   3rd Qu.:0.5   3rd Qu.:3  \n",
            "                 Max.   :150.00   Max.   :0.5   Max.   :3  \n"
          ],
          "name": "stdout"
        }
      ]
    }
  ]
}
