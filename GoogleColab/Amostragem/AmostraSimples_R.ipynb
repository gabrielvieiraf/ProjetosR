{
  "nbformat": 4,
  "nbformat_minor": 0,
  "metadata": {
    "colab": {
      "name": "AmostraSimples_R.ipynb",
      "provenance": [],
      "authorship_tag": "ABX9TyPSuxtulb4mXNh1bVdK0UMA",
      "include_colab_link": true
    },
    "kernelspec": {
      "name": "python3",
      "display_name": "Python 3"
    }
  },
  "cells": [
    {
      "cell_type": "markdown",
      "metadata": {
        "id": "view-in-github",
        "colab_type": "text"
      },
      "source": [
        "<a href=\"https://colab.research.google.com/github/gabrielvieiraf/ProjetosR/blob/master/GoogleColab/AmostraSimples_R.ipynb\" target=\"_parent\"><img src=\"https://colab.research.google.com/assets/colab-badge.svg\" alt=\"Open In Colab\"/></a>"
      ]
    },
    {
      "cell_type": "code",
      "metadata": {
        "id": "C_CkAWVDkSAh"
      },
      "source": [
        "# Ativando R magic\r\n",
        "%load_ext rpy2.ipython"
      ],
      "execution_count": 2,
      "outputs": []
    },
    {
      "cell_type": "markdown",
      "metadata": {
        "id": "vatyCL7XqJFl"
      },
      "source": [
        "> ## Amostragem simples"
      ]
    },
    {
      "cell_type": "markdown",
      "metadata": {
        "id": "2L_p5P5frVCN"
      },
      "source": [
        "> ### Amostragem com probabilidades equivalentes"
      ]
    },
    {
      "cell_type": "code",
      "metadata": {
        "colab": {
          "base_uri": "https://localhost:8080/"
        },
        "id": "68uWLF06kStg",
        "outputId": "925ffab1-3663-4c42-ec57-a74bbe6727cf"
      },
      "source": [
        "%%R\r\n",
        "# Gerando uma amostra de valores 0 a 1, 150 vezes, com reposição, prob. equivalentes\r\n",
        "amostra <- sample(c(0,1),150, replace=T, prob=c(0.5,0.5))\r\n",
        "\r\n",
        "# Mostrando resumo da amostra \r\n",
        "summary(as.factor(amostra))"
      ],
      "execution_count": 4,
      "outputs": [
        {
          "output_type": "stream",
          "text": [
            " 0  1 \n",
            "79 71 \n"
          ],
          "name": "stdout"
        }
      ]
    },
    {
      "cell_type": "markdown",
      "metadata": {
        "id": "lGy20Pozra9z"
      },
      "source": [
        "> ### Amostragem com mais chances para o 0"
      ]
    },
    {
      "cell_type": "code",
      "metadata": {
        "colab": {
          "base_uri": "https://localhost:8080/"
        },
        "id": "FRxQ4XUTrdxP",
        "outputId": "dfda6ce6-2f0f-44f8-bd3e-745ea8ce0245"
      },
      "source": [
        "%%R\r\n",
        "# Gerando uma amostra de valores 0 a 1, 150 vezes, com reposição, prob. equivalentes\r\n",
        "amostra <- sample(c(0,1),150, replace=T, prob=c(0.8,0.2))\r\n",
        "\r\n",
        "# Mostrando resumo da amostra \r\n",
        "summary(as.factor(amostra))"
      ],
      "execution_count": 5,
      "outputs": [
        {
          "output_type": "stream",
          "text": [
            "  0   1 \n",
            "124  26 \n"
          ],
          "name": "stdout"
        }
      ]
    },
    {
      "cell_type": "markdown",
      "metadata": {
        "id": "I5lW_fDgr1Vm"
      },
      "source": [
        "> ### Gerando outra Amostra"
      ]
    },
    {
      "cell_type": "code",
      "metadata": {
        "colab": {
          "base_uri": "https://localhost:8080/"
        },
        "id": "CtU6hJ8Dr4n5",
        "outputId": "b16f1936-a24d-4761-b96b-4b2623969de1"
      },
      "source": [
        "%%R\r\n",
        "# Gerando uma amostra de valores 1 a 1500, 20 vezes, sem reposição\r\n",
        "amostra2 <- sample(c(1:1500),20, replace=F)\r\n",
        "\r\n",
        "# Mostrando resumo da amostra \r\n",
        "summary(as.factor(amostra2))"
      ],
      "execution_count": 11,
      "outputs": [
        {
          "output_type": "stream",
          "text": [
            " 230  269  280  287  360  413  446  602  701  721  808  871  899  949 1035 1074 \n",
            "   1    1    1    1    1    1    1    1    1    1    1    1    1    1    1    1 \n",
            "1204 1354 1406 1471 \n",
            "   1    1    1    1 \n"
          ],
          "name": "stdout"
        }
      ]
    },
    {
      "cell_type": "markdown",
      "metadata": {
        "id": "lpaRADZ_s1Zj"
      },
      "source": [
        "> ### Trabalhando com Amostra Iris"
      ]
    },
    {
      "cell_type": "code",
      "metadata": {
        "colab": {
          "base_uri": "https://localhost:8080/"
        },
        "id": "YA2kLxLys4cy",
        "outputId": "2467966f-f6d6-474f-9204-5dd59ad29e24"
      },
      "source": [
        "%%R\r\n",
        "# Utilizando SEED para aleatoriedade\r\n",
        "set.seed(116)\r\n",
        "\r\n",
        "# Vetor de 0 e 1\r\n",
        "amostra4 <- sample(c(0,1), 150, replace= T, prob=c(0.7,0.3) )\r\n",
        "\r\n",
        "# Separando 30% dos dados de iris\r\n",
        "amostrairis <- iris[amostra4 == 1,]\r\n",
        "print(amostrairis)\r\n",
        "\r\n",
        "print('Dimensões da amostra:')\r\n",
        "dim(amostrairis)"
      ],
      "execution_count": 24,
      "outputs": [
        {
          "output_type": "stream",
          "text": [
            "    Sepal.Length Sepal.Width Petal.Length Petal.Width    Species\n",
            "1            5.1         3.5          1.4         0.2     setosa\n",
            "5            5.0         3.6          1.4         0.2     setosa\n",
            "7            4.6         3.4          1.4         0.3     setosa\n",
            "12           4.8         3.4          1.6         0.2     setosa\n",
            "15           5.8         4.0          1.2         0.2     setosa\n",
            "20           5.1         3.8          1.5         0.3     setosa\n",
            "25           4.8         3.4          1.9         0.2     setosa\n",
            "30           4.7         3.2          1.6         0.2     setosa\n",
            "32           5.4         3.4          1.5         0.4     setosa\n",
            "34           5.5         4.2          1.4         0.2     setosa\n",
            "47           5.1         3.8          1.6         0.2     setosa\n",
            "50           5.0         3.3          1.4         0.2     setosa\n",
            "51           7.0         3.2          4.7         1.4 versicolor\n",
            "52           6.4         3.2          4.5         1.5 versicolor\n",
            "59           6.6         2.9          4.6         1.3 versicolor\n",
            "60           5.2         2.7          3.9         1.4 versicolor\n",
            "64           6.1         2.9          4.7         1.4 versicolor\n",
            "68           5.8         2.7          4.1         1.0 versicolor\n",
            "70           5.6         2.5          3.9         1.1 versicolor\n",
            "74           6.1         2.8          4.7         1.2 versicolor\n",
            "79           6.0         2.9          4.5         1.5 versicolor\n",
            "81           5.5         2.4          3.8         1.1 versicolor\n",
            "86           6.0         3.4          4.5         1.6 versicolor\n",
            "91           5.5         2.6          4.4         1.2 versicolor\n",
            "92           6.1         3.0          4.6         1.4 versicolor\n",
            "93           5.8         2.6          4.0         1.2 versicolor\n",
            "95           5.6         2.7          4.2         1.3 versicolor\n",
            "96           5.7         3.0          4.2         1.2 versicolor\n",
            "97           5.7         2.9          4.2         1.3 versicolor\n",
            "99           5.1         2.5          3.0         1.1 versicolor\n",
            "103          7.1         3.0          5.9         2.1  virginica\n",
            "108          7.3         2.9          6.3         1.8  virginica\n",
            "114          5.7         2.5          5.0         2.0  virginica\n",
            "116          6.4         3.2          5.3         2.3  virginica\n",
            "117          6.5         3.0          5.5         1.8  virginica\n",
            "120          6.0         2.2          5.0         1.5  virginica\n",
            "121          6.9         3.2          5.7         2.3  virginica\n",
            "128          6.1         3.0          4.9         1.8  virginica\n",
            "130          7.2         3.0          5.8         1.6  virginica\n",
            "131          7.4         2.8          6.1         1.9  virginica\n",
            "132          7.9         3.8          6.4         2.0  virginica\n",
            "137          6.3         3.4          5.6         2.4  virginica\n",
            "145          6.7         3.3          5.7         2.5  virginica\n",
            "150          5.9         3.0          5.1         1.8  virginica\n",
            "[1] \"Dimensões da amostra:\"\n",
            "[1] 44  5\n"
          ],
          "name": "stdout"
        }
      ]
    }
  ]
}
