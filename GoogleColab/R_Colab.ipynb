{
  "nbformat": 4,
  "nbformat_minor": 0,
  "metadata": {
    "colab": {
      "name": "R_Colab.ipynb",
      "provenance": [],
      "authorship_tag": "ABX9TyMF63Fb1A79bwVvFvmkMum/",
      "include_colab_link": true
    },
    "kernelspec": {
      "name": "python3",
      "display_name": "Python 3"
    }
  },
  "cells": [
    {
      "cell_type": "markdown",
      "metadata": {
        "id": "view-in-github",
        "colab_type": "text"
      },
      "source": [
        "<a href=\"https://colab.research.google.com/github/gabrielvieiraf/ProjetosR/blob/master/GoogleColab/R_Colab.ipynb\" target=\"_parent\"><img src=\"https://colab.research.google.com/assets/colab-badge.svg\" alt=\"Open In Colab\"/></a>"
      ]
    },
    {
      "cell_type": "markdown",
      "metadata": {
        "id": "wo-Y5BlCbdak"
      },
      "source": [
        "> # Utilizando R no Google Colab"
      ]
    },
    {
      "cell_type": "code",
      "metadata": {
        "id": "k_BTdgfHaStJ"
      },
      "source": [
        "# Ativando R magic\r\n",
        "%load_ext rpy2.ipython"
      ],
      "execution_count": 1,
      "outputs": []
    },
    {
      "cell_type": "markdown",
      "metadata": {
        "id": "9CbIZGRXblrx"
      },
      "source": [
        "> ## Exemplo"
      ]
    },
    {
      "cell_type": "code",
      "metadata": {
        "id": "Rjw2o2s2bC_O"
      },
      "source": [
        "%%R\r\n",
        "# Utilizando Exemplo Gráficos de Barras\r\n",
        "cursos <- c(\"Eng. Eletrônica\",\"Eng. de Software\",\"Ciê. da computação\")\r\n",
        "n_aprovados <- c(10,30,20)\r\n",
        "n_reprovados <- c(20,0,10)\r\n",
        "\r\n",
        "# Gráfico de barras Horizontal\r\n",
        "barplot(n_aprovados, names.arg=cursos, main=\"Aprovação por Curso\",\r\n",
        "        xlab= \"Cursos\", ylab=\"Aprovação\", cex.lab=1,\r\n",
        "        cex.axis = 1, cex.names = 1, horiz = 0, col = c(1,2,3),\r\n",
        "        border = F)"
      ],
      "execution_count": null,
      "outputs": []
    },
    {
      "cell_type": "code",
      "metadata": {
        "id": "ZkTIBDp_bvW1"
      },
      "source": [
        ""
      ],
      "execution_count": null,
      "outputs": []
    }
  ]
}